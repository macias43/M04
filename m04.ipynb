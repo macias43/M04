{
 "cells": [
  {
   "cell_type": "code",
   "execution_count": 11,
   "id": "b7949b2a",
   "metadata": {},
   "outputs": [
    {
     "name": "stdout",
     "output_type": "stream",
     "text": [
      "2023-09-16 03:49:07,891 INFO sqlalchemy.engine.Engine INSERT INTO books (title, author, year) VALUES (?, ?, ?), (?, ?, ?), (?, ?, ?), (?, ?, ?), (?, ?, ?)\n",
      "2023-09-16 03:49:07,892 INFO sqlalchemy.engine.Engine [no key 0.00180s] ('To Kill a Mockingbird', 'Harper Lee', 1960, '1984', 'George Orwell', 1949, 'Pride and Prejudice', 'Jane Austen', 1813, 'The Catcher in the Rye', 'J.D. Salinger', 1951, 'The Great Gatsby', 'F. Scott Fitzgerald', 1925)\n",
      "2023-09-16 03:49:07,897 INFO sqlalchemy.engine.Engine COMMIT\n",
      "2023-09-16 03:49:07,901 INFO sqlalchemy.engine.Engine SELECT books.title \n",
      "FROM books ORDER BY books.title ASC\n",
      "2023-09-16 03:49:07,903 INFO sqlalchemy.engine.Engine [generated in 0.00195s] ()\n",
      "1984\n",
      "Pride and Prejudice\n",
      "The Catcher in the Rye\n",
      "The Great Gatsby\n",
      "To Kill a Mockingbird\n"
     ]
    }
   ],
   "source": [
    "import sqlalchemy\n",
    "from sqlalchemy import create_engine, select, Table, Column, Integer, String, MetaData\n",
    "\n",
    "engine = create_engine('sqlite:///books.db', echo=True)  # Set echo to True to log SQL statements\n",
    "\n",
    "\n",
    "metadata = MetaData()\n",
    "books = Table('books', metadata,\n",
    "              Column('id', Integer, primary_key=True),\n",
    "              Column('title', String),\n",
    "              Column('author', String),\n",
    "              Column('year', Integer))\n",
    "\n",
    "\n",
    "with engine.connect() as conn:\n",
    "   \n",
    "    titles_to_insert = [\n",
    "        {'title': 'To Kill a Mockingbird', 'author': 'Harper Lee', 'year': 1960},\n",
    "        {'title': '1984', 'author': 'George Orwell', 'year': 1949},\n",
    "        {'title': 'Pride and Prejudice', 'author': 'Jane Austen', 'year': 1813},\n",
    "        {'title': 'The Catcher in the Rye', 'author': 'J.D. Salinger', 'year': 1951},\n",
    "        {'title': 'The Great Gatsby', 'author': 'F. Scott Fitzgerald', 'year': 1925}\n",
    "    ]\n",
    "\n",
    "    conn.execute(books.insert().values(titles_to_insert))\n",
    "\n",
    "    \n",
    "    stmt = select([books.c.title]).order_by(books.c.title.asc())\n",
    "\n",
    "   \n",
    "    result = conn.execute(stmt)\n",
    "    titles = result.fetchall()\n",
    "\n",
    "\n",
    "for title in titles:\n",
    "    print(title[0])\n"
   ]
  },
  {
   "cell_type": "code",
   "execution_count": null,
   "id": "178bc695",
   "metadata": {},
   "outputs": [],
   "source": []
  }
 ],
 "metadata": {
  "kernelspec": {
   "display_name": "Python 3 (ipykernel)",
   "language": "python",
   "name": "python3"
  },
  "language_info": {
   "codemirror_mode": {
    "name": "ipython",
    "version": 3
   },
   "file_extension": ".py",
   "mimetype": "text/x-python",
   "name": "python",
   "nbconvert_exporter": "python",
   "pygments_lexer": "ipython3",
   "version": "3.11.4"
  }
 },
 "nbformat": 4,
 "nbformat_minor": 5
}
